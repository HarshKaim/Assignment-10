{
 "cells": [
  {
   "cell_type": "markdown",
   "id": "7303af7a",
   "metadata": {},
   "source": [
    "Q1) What is multiprocessing in python? Why is it useful?\n",
    "Ans.\n",
    "\n",
    "Multiprocessing refers to concurrent execution of processes to increase productivity and reduce CPU idle time. Process are context switched and also their memory spaces.\n",
    "\n",
    "It is useful as it allows parallelism among processes and improves performance and responsiveness of the CPU."
   ]
  },
  {
   "cell_type": "markdown",
   "id": "e86af517",
   "metadata": {},
   "source": [
    "Q2) What are the differences between multiprocessing and multithreading?\n",
    "Ans.\n",
    "\n",
    "Multiprocessing refers to context swithing of the processes. It involves process and memory isolation as memory space is also changed whenever a process is swithced. It is comparatively slow.\n",
    "\n",
    "Multithreading referes to context switching of threads of a same process. It involves switching threads and not the memory space thus it is faster as compared to multiprocessing"
   ]
  },
  {
   "cell_type": "markdown",
   "id": "4d4b3268",
   "metadata": {},
   "source": [
    "Q3) Write a python code to create a process using multiprocessing module."
   ]
  },
  {
   "cell_type": "code",
   "execution_count": 6,
   "id": "054aae3e",
   "metadata": {},
   "outputs": [],
   "source": [
    "import multiprocessing\n",
    "import os\n",
    "def process_details():\n",
    "    print('Process ID:',os.getpid())\n",
    "    print('Parent process ID:',os.getppid())\n",
    "    \n",
    "if __name__=='__main__': \n",
    "    process1=multiprocessing.Process(target=process_details)\n",
    "    process1.start()\n",
    "    process1.join() "
   ]
  },
  {
   "cell_type": "markdown",
   "id": "05932a55",
   "metadata": {},
   "source": [
    "Q4) What is a multiprocessing pool in python? Why is it used?\n",
    "\n",
    "Ans. A multiprocessing pool helps in creating worker processes to perform a task parallely. Generally they are used to parallelize the execution of a function across multiple inputs. It can be used by invoking the Pool class of multiprocessing module as multiprocessing.Pool\n",
    "\n",
    "It is used for parallel execution, task division and helps in achieving multiprocessing."
   ]
  },
  {
   "cell_type": "markdown",
   "id": "ee337b9d",
   "metadata": {},
   "source": [
    "Q5) How can we create a pool of worker processes in pythong using multiprocessing module?\n",
    "\n",
    "Ans. We can create it by using the following statement\n",
    "\n",
    "    with multiprocessing.Pool(processes=no. of processes) as pool:\n",
    "    \n",
    "        # here we can perform our task"
   ]
  },
  {
   "cell_type": "markdown",
   "id": "4a033d82",
   "metadata": {},
   "source": [
    "Q6) Write a python program to create 4 processes, each process should print a different number using the multiprocessing module in python."
   ]
  },
  {
   "cell_type": "code",
   "execution_count": null,
   "id": "208d4671",
   "metadata": {},
   "outputs": [],
   "source": [
    "import multiprocessing\n",
    "def print_number(number):\n",
    "    print('Process Id:',multiprocessing.current_process().pid,'Number:',number)\n",
    "    \n",
    "if __name__=='__main__':\n",
    "    with multiprocessing.Pool(processes=4) as pool:\n",
    "        numbers=[1,2,3,4]\n",
    "        pool.map(print_number,numbers)"
   ]
  },
  {
   "cell_type": "code",
   "execution_count": null,
   "id": "d118f245",
   "metadata": {},
   "outputs": [],
   "source": []
  }
 ],
 "metadata": {
  "kernelspec": {
   "display_name": "Python 3 (ipykernel)",
   "language": "python",
   "name": "python3"
  },
  "language_info": {
   "codemirror_mode": {
    "name": "ipython",
    "version": 3
   },
   "file_extension": ".py",
   "mimetype": "text/x-python",
   "name": "python",
   "nbconvert_exporter": "python",
   "pygments_lexer": "ipython3",
   "version": "3.9.12"
  }
 },
 "nbformat": 4,
 "nbformat_minor": 5
}
